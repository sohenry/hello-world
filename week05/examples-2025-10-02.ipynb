{
  "nbformat": 4,
  "nbformat_minor": 0,
  "metadata": {
    "colab": {
      "provenance": []
    },
    "kernelspec": {
      "name": "python3",
      "display_name": "Python 3"
    },
    "language_info": {
      "name": "python"
    }
  },
  "cells": [
    {
      "cell_type": "markdown",
      "source": [
        "# 2025-10-02 DX 602 Live Session - Matplotlib"
      ],
      "metadata": {
        "id": "IW6Z58ilxk0_"
      }
    },
    {
      "cell_type": "markdown",
      "source": [
        "## Modules\n",
        "\n",
        "What is a module?\n",
        "* A pre-made bundle of code?\n",
        "* Code that we can use but someone else wrote?\n",
        "* Code that we can expect other people to be able to use to?\n",
        "\n",
        "We also see the word package used almost interchangeably.\n",
        "The difference is units of distribution vs loading/using."
      ],
      "metadata": {
        "id": "dzISUFX9xrcV"
      }
    },
    {
      "cell_type": "markdown",
      "source": [
        "## Math Module\n",
        "\n",
        "You have been seeing light module usage since the beginning of the semester."
      ],
      "metadata": {
        "id": "6m1lCKUcyPZg"
      }
    },
    {
      "cell_type": "code",
      "execution_count": 1,
      "metadata": {
        "id": "UxLPY0bFxYTI"
      },
      "outputs": [],
      "source": [
        "import math"
      ]
    },
    {
      "cell_type": "code",
      "source": [
        "math.sin(1)"
      ],
      "metadata": {
        "id": "AA9OB0O8yd5o",
        "colab": {
          "base_uri": "https://localhost:8080/"
        },
        "outputId": "d12cf2b2-525f-4494-8ea7-96f28111c7b1"
      },
      "execution_count": 2,
      "outputs": [
        {
          "output_type": "execute_result",
          "data": {
            "text/plain": [
              "0.8414709848078965"
            ]
          },
          "metadata": {},
          "execution_count": 2
        }
      ]
    },
    {
      "cell_type": "markdown",
      "source": [
        "## Selective Imports"
      ],
      "metadata": {
        "id": "2wLXCTkkyrN1"
      }
    },
    {
      "cell_type": "code",
      "source": [
        "from math import cos"
      ],
      "metadata": {
        "id": "45IIDTJUyuNb"
      },
      "execution_count": 3,
      "outputs": []
    },
    {
      "cell_type": "code",
      "source": [
        "cos(1)"
      ],
      "metadata": {
        "id": "8_h9ENUsyvMk",
        "colab": {
          "base_uri": "https://localhost:8080/"
        },
        "outputId": "4b668fa1-019e-4b1d-b5ba-1a85859d2dc1"
      },
      "execution_count": 4,
      "outputs": [
        {
          "output_type": "execute_result",
          "data": {
            "text/plain": [
              "0.5403023058681398"
            ]
          },
          "metadata": {},
          "execution_count": 4
        }
      ]
    },
    {
      "cell_type": "markdown",
      "source": [
        "## Matplotlib\n",
        "\n",
        "https://matplotlib.org/\n",
        "\n",
        "This is a big module!"
      ],
      "metadata": {
        "id": "tcDOAtRry4CS"
      }
    },
    {
      "cell_type": "code",
      "source": [
        "import matplotlib"
      ],
      "metadata": {
        "id": "jrdrU_Ml21pl"
      },
      "execution_count": 5,
      "outputs": []
    },
    {
      "cell_type": "markdown",
      "source": [
        "What is in here?"
      ],
      "metadata": {
        "id": "AIzIAiGc2-LP"
      }
    },
    {
      "cell_type": "code",
      "source": [
        "dir(matplotlib)"
      ],
      "metadata": {
        "id": "7OmX-zrb23Bq",
        "colab": {
          "base_uri": "https://localhost:8080/"
        },
        "outputId": "37b7165a-b5e1-45fb-f210-58276d99f7de"
      },
      "execution_count": 6,
      "outputs": [
        {
          "output_type": "execute_result",
          "data": {
            "text/plain": [
              "['ExecutableNotFoundError',\n",
              " 'MatplotlibDeprecationWarning',\n",
              " 'MutableMapping',\n",
              " 'Parameter',\n",
              " 'Path',\n",
              " 'RcParams',\n",
              " '_ExecInfo',\n",
              " '_VersionInfo',\n",
              " '__all__',\n",
              " '__bibtex__',\n",
              " '__builtins__',\n",
              " '__cached__',\n",
              " '__doc__',\n",
              " '__file__',\n",
              " '__getattr__',\n",
              " '__loader__',\n",
              " '__name__',\n",
              " '__package__',\n",
              " '__path__',\n",
              " '__spec__',\n",
              " '_add_data_doc',\n",
              " '_afm',\n",
              " '_api',\n",
              " '_blocking_input',\n",
              " '_c_internal_utils',\n",
              " '_check_versions',\n",
              " '_cm',\n",
              " '_cm_bivar',\n",
              " '_cm_listed',\n",
              " '_cm_multivar',\n",
              " '_color_data',\n",
              " '_constrained_layout',\n",
              " '_deprecated_ignore_map',\n",
              " '_deprecated_map',\n",
              " '_deprecated_remain_as_none',\n",
              " '_docstring',\n",
              " '_ensure_handler',\n",
              " '_enums',\n",
              " '_fontconfig_pattern',\n",
              " '_get_config_or_cache_dir',\n",
              " '_get_executable_info',\n",
              " '_get_ssl_context',\n",
              " '_get_version',\n",
              " '_get_xdg_cache_dir',\n",
              " '_get_xdg_config_dir',\n",
              " '_image',\n",
              " '_init_tests',\n",
              " '_label_from_arg',\n",
              " '_layoutgrid',\n",
              " '_log',\n",
              " '_logged_cached',\n",
              " '_mathtext',\n",
              " '_mathtext_data',\n",
              " '_open_file_or_url',\n",
              " '_parse_to_version_info',\n",
              " '_path',\n",
              " '_preprocess_data',\n",
              " '_pylab_helpers',\n",
              " '_rc_params_in_file',\n",
              " '_replacer',\n",
              " '_text_helpers',\n",
              " '_tight_bbox',\n",
              " '_tight_layout',\n",
              " '_val_or_rc',\n",
              " '_version',\n",
              " 'artist',\n",
              " 'atexit',\n",
              " 'axes',\n",
              " 'axis',\n",
              " 'backend_bases',\n",
              " 'backend_managers',\n",
              " 'backend_tools',\n",
              " 'backends',\n",
              " 'bezier',\n",
              " 'bivar_colormaps',\n",
              " 'category',\n",
              " 'cbook',\n",
              " 'cm',\n",
              " 'collections',\n",
              " 'color_sequences',\n",
              " 'colorbar',\n",
              " 'colorizer',\n",
              " 'colormaps',\n",
              " 'colors',\n",
              " 'container',\n",
              " 'contextlib',\n",
              " 'contour',\n",
              " 'cycler',\n",
              " 'dates',\n",
              " 'defaultParams',\n",
              " 'dviread',\n",
              " 'figure',\n",
              " 'font_manager',\n",
              " 'ft2font',\n",
              " 'functools',\n",
              " 'get_backend',\n",
              " 'get_cachedir',\n",
              " 'get_configdir',\n",
              " 'get_data_path',\n",
              " 'gridspec',\n",
              " 'hatch',\n",
              " 'image',\n",
              " 'importlib',\n",
              " 'inset',\n",
              " 'inspect',\n",
              " 'interactive',\n",
              " 'is_interactive',\n",
              " 'layout_engine',\n",
              " 'legend',\n",
              " 'legend_handler',\n",
              " 'lines',\n",
              " 'locale',\n",
              " 'logging',\n",
              " 'markers',\n",
              " 'mathtext',\n",
              " 'matplotlib_fname',\n",
              " 'mlab',\n",
              " 'multivar_colormaps',\n",
              " 'namedtuple',\n",
              " 'offsetbox',\n",
              " 'os',\n",
              " 'parse_version',\n",
              " 'patches',\n",
              " 'path',\n",
              " 'pprint',\n",
              " 'projections',\n",
              " 'pyplot',\n",
              " 'quiver',\n",
              " 'rc',\n",
              " 'rcParams',\n",
              " 'rcParamsDefault',\n",
              " 'rcParamsOrig',\n",
              " 'rc_context',\n",
              " 'rc_file',\n",
              " 'rc_file_defaults',\n",
              " 'rc_params',\n",
              " 'rc_params_from_file',\n",
              " 'rcdefaults',\n",
              " 'rcsetup',\n",
              " 're',\n",
              " 'sanitize_sequence',\n",
              " 'scale',\n",
              " 'set_loglevel',\n",
              " 'shutil',\n",
              " 'spines',\n",
              " 'stackplot',\n",
              " 'streamplot',\n",
              " 'style',\n",
              " 'subprocess',\n",
              " 'sys',\n",
              " 'table',\n",
              " 'tempfile',\n",
              " 'texmanager',\n",
              " 'text',\n",
              " 'textpath',\n",
              " 'ticker',\n",
              " 'transforms',\n",
              " 'tri',\n",
              " 'units',\n",
              " 'use',\n",
              " 'validate_backend',\n",
              " 'widgets']"
            ]
          },
          "metadata": {},
          "execution_count": 6
        }
      ]
    },
    {
      "cell_type": "markdown",
      "source": [
        "Usually we prefer a more selective import."
      ],
      "metadata": {
        "id": "0OoPoSz025HD"
      }
    },
    {
      "cell_type": "code",
      "source": [
        "#!pip install matplotlib\n",
        "import matplotlib.pyplot as plt"
      ],
      "metadata": {
        "id": "gR3Pp9ZbzDnp"
      },
      "execution_count": 12,
      "outputs": []
    },
    {
      "cell_type": "markdown",
      "source": [
        "What is in here?"
      ],
      "metadata": {
        "id": "ENM5juHTzO8f"
      }
    },
    {
      "cell_type": "code",
      "source": [
        "dir(plt)"
      ],
      "metadata": {
        "id": "IbZmpslVzRiy",
        "colab": {
          "base_uri": "https://localhost:8080/"
        },
        "outputId": "13cb3a73-15f5-4745-8f44-6e5b2a687c0d"
      },
      "execution_count": 13,
      "outputs": [
        {
          "output_type": "execute_result",
          "data": {
            "text/plain": [
              "['AbstractContextManager',\n",
              " 'Annotation',\n",
              " 'Arrow',\n",
              " 'Artist',\n",
              " 'AutoLocator',\n",
              " 'AxLine',\n",
              " 'Axes',\n",
              " 'BackendFilter',\n",
              " 'Button',\n",
              " 'Circle',\n",
              " 'Colorizer',\n",
              " 'ColorizingArtist',\n",
              " 'Colormap',\n",
              " 'Enum',\n",
              " 'ExitStack',\n",
              " 'Figure',\n",
              " 'FigureBase',\n",
              " 'FigureCanvasBase',\n",
              " 'FigureManagerBase',\n",
              " 'FixedFormatter',\n",
              " 'FixedLocator',\n",
              " 'FormatStrFormatter',\n",
              " 'Formatter',\n",
              " 'FuncFormatter',\n",
              " 'GridSpec',\n",
              " 'IndexLocator',\n",
              " 'Line2D',\n",
              " 'LinearLocator',\n",
              " 'Locator',\n",
              " 'LogFormatter',\n",
              " 'LogFormatterExponent',\n",
              " 'LogFormatterMathtext',\n",
              " 'LogLocator',\n",
              " 'MaxNLocator',\n",
              " 'MouseButton',\n",
              " 'MultipleLocator',\n",
              " 'Normalize',\n",
              " 'NullFormatter',\n",
              " 'NullLocator',\n",
              " 'PolarAxes',\n",
              " 'Polygon',\n",
              " 'Rectangle',\n",
              " 'ScalarFormatter',\n",
              " 'Slider',\n",
              " 'Subplot',\n",
              " 'SubplotSpec',\n",
              " 'TYPE_CHECKING',\n",
              " 'Text',\n",
              " 'TickHelper',\n",
              " 'Widget',\n",
              " '_ColorizerInterface',\n",
              " '_NO_PYPLOT_NOTE',\n",
              " '_REPL_DISPLAYHOOK',\n",
              " '_ReplDisplayHook',\n",
              " '__annotations__',\n",
              " '__builtins__',\n",
              " '__cached__',\n",
              " '__doc__',\n",
              " '__file__',\n",
              " '__loader__',\n",
              " '__name__',\n",
              " '__package__',\n",
              " '__spec__',\n",
              " '_add_pyplot_note',\n",
              " '_api',\n",
              " '_auto_draw_if_interactive',\n",
              " '_backend_mod',\n",
              " '_color_sequences',\n",
              " '_colormaps',\n",
              " '_copy_docstring_and_deprecators',\n",
              " '_docstring',\n",
              " '_draw_all_if_interactive',\n",
              " '_get_backend_mod',\n",
              " '_get_pyplot_commands',\n",
              " '_log',\n",
              " '_pylab_helpers',\n",
              " '_warn_if_gui_out_of_main_thread',\n",
              " 'acorr',\n",
              " 'angle_spectrum',\n",
              " 'annotate',\n",
              " 'annotations',\n",
              " 'arrow',\n",
              " 'autoscale',\n",
              " 'autumn',\n",
              " 'axes',\n",
              " 'axhline',\n",
              " 'axhspan',\n",
              " 'axis',\n",
              " 'axline',\n",
              " 'axvline',\n",
              " 'axvspan',\n",
              " 'backend_registry',\n",
              " 'bar',\n",
              " 'bar_label',\n",
              " 'barbs',\n",
              " 'barh',\n",
              " 'bone',\n",
              " 'box',\n",
              " 'boxplot',\n",
              " 'broken_barh',\n",
              " 'cast',\n",
              " 'cbook',\n",
              " 'cla',\n",
              " 'clabel',\n",
              " 'clf',\n",
              " 'clim',\n",
              " 'close',\n",
              " 'cm',\n",
              " 'cohere',\n",
              " 'color_sequences',\n",
              " 'colorbar',\n",
              " 'colormaps',\n",
              " 'connect',\n",
              " 'contour',\n",
              " 'contourf',\n",
              " 'cool',\n",
              " 'copper',\n",
              " 'csd',\n",
              " 'cycler',\n",
              " 'delaxes',\n",
              " 'disconnect',\n",
              " 'draw',\n",
              " 'draw_all',\n",
              " 'draw_if_interactive',\n",
              " 'ecdf',\n",
              " 'errorbar',\n",
              " 'eventplot',\n",
              " 'figaspect',\n",
              " 'figimage',\n",
              " 'figlegend',\n",
              " 'fignum_exists',\n",
              " 'figtext',\n",
              " 'figure',\n",
              " 'fill',\n",
              " 'fill_between',\n",
              " 'fill_betweenx',\n",
              " 'findobj',\n",
              " 'flag',\n",
              " 'functools',\n",
              " 'gca',\n",
              " 'gcf',\n",
              " 'gci',\n",
              " 'get',\n",
              " 'get_backend',\n",
              " 'get_cmap',\n",
              " 'get_current_fig_manager',\n",
              " 'get_figlabels',\n",
              " 'get_fignums',\n",
              " 'get_plot_commands',\n",
              " 'get_scale_names',\n",
              " 'getp',\n",
              " 'ginput',\n",
              " 'gray',\n",
              " 'grid',\n",
              " 'hexbin',\n",
              " 'hist',\n",
              " 'hist2d',\n",
              " 'hlines',\n",
              " 'hot',\n",
              " 'hsv',\n",
              " 'importlib',\n",
              " 'imread',\n",
              " 'imsave',\n",
              " 'imshow',\n",
              " 'inferno',\n",
              " 'inspect',\n",
              " 'install_repl_displayhook',\n",
              " 'interactive',\n",
              " 'ioff',\n",
              " 'ion',\n",
              " 'isinteractive',\n",
              " 'jet',\n",
              " 'legend',\n",
              " 'locator_params',\n",
              " 'logging',\n",
              " 'loglog',\n",
              " 'magma',\n",
              " 'magnitude_spectrum',\n",
              " 'margins',\n",
              " 'matplotlib',\n",
              " 'matshow',\n",
              " 'minorticks_off',\n",
              " 'minorticks_on',\n",
              " 'mlab',\n",
              " 'new_figure_manager',\n",
              " 'nipy_spectral',\n",
              " 'np',\n",
              " 'overload',\n",
              " 'pause',\n",
              " 'pcolor',\n",
              " 'pcolormesh',\n",
              " 'phase_spectrum',\n",
              " 'pie',\n",
              " 'pink',\n",
              " 'plasma',\n",
              " 'plot',\n",
              " 'plot_date',\n",
              " 'polar',\n",
              " 'prism',\n",
              " 'psd',\n",
              " 'quiver',\n",
              " 'quiverkey',\n",
              " 'rc',\n",
              " 'rcParams',\n",
              " 'rcParamsDefault',\n",
              " 'rcParamsOrig',\n",
              " 'rc_context',\n",
              " 'rcdefaults',\n",
              " 'rcsetup',\n",
              " 'rgrids',\n",
              " 'savefig',\n",
              " 'sca',\n",
              " 'scatter',\n",
              " 'sci',\n",
              " 'semilogx',\n",
              " 'semilogy',\n",
              " 'set_cmap',\n",
              " 'set_loglevel',\n",
              " 'setp',\n",
              " 'show',\n",
              " 'specgram',\n",
              " 'spring',\n",
              " 'spy',\n",
              " 'stackplot',\n",
              " 'stairs',\n",
              " 'stem',\n",
              " 'step',\n",
              " 'streamplot',\n",
              " 'style',\n",
              " 'subplot',\n",
              " 'subplot2grid',\n",
              " 'subplot_mosaic',\n",
              " 'subplot_tool',\n",
              " 'subplots',\n",
              " 'subplots_adjust',\n",
              " 'summer',\n",
              " 'suptitle',\n",
              " 'switch_backend',\n",
              " 'sys',\n",
              " 'table',\n",
              " 'text',\n",
              " 'thetagrids',\n",
              " 'threading',\n",
              " 'tick_params',\n",
              " 'ticklabel_format',\n",
              " 'tight_layout',\n",
              " 'time',\n",
              " 'title',\n",
              " 'tricontour',\n",
              " 'tricontourf',\n",
              " 'tripcolor',\n",
              " 'triplot',\n",
              " 'twinx',\n",
              " 'twiny',\n",
              " 'uninstall_repl_displayhook',\n",
              " 'violinplot',\n",
              " 'viridis',\n",
              " 'vlines',\n",
              " 'waitforbuttonpress',\n",
              " 'winter',\n",
              " 'xcorr',\n",
              " 'xkcd',\n",
              " 'xlabel',\n",
              " 'xlim',\n",
              " 'xscale',\n",
              " 'xticks',\n",
              " 'ylabel',\n",
              " 'ylim',\n",
              " 'yscale',\n",
              " 'yticks']"
            ]
          },
          "metadata": {},
          "execution_count": 13
        }
      ]
    },
    {
      "cell_type": "markdown",
      "source": [
        "## Matplotlib Introduction"
      ],
      "metadata": {
        "id": "dLjjHVqDzVEl"
      }
    },
    {
      "cell_type": "markdown",
      "source": [
        "Plot a series of numbers 3, 1, 4, 1, 5, 9."
      ],
      "metadata": {
        "id": "mdksICk6zXRi"
      }
    },
    {
      "cell_type": "code",
      "source": [
        "plt.plot([3, 1, 4, 1, 5, 9])"
      ],
      "metadata": {
        "id": "oDn3ipQmzt5F",
        "colab": {
          "base_uri": "https://localhost:8080/",
          "height": 447
        },
        "outputId": "dbdb76f0-c958-44d1-af87-80db390b0606"
      },
      "execution_count": 14,
      "outputs": [
        {
          "output_type": "execute_result",
          "data": {
            "text/plain": [
              "[<matplotlib.lines.Line2D at 0x7ea121af08c0>]"
            ]
          },
          "metadata": {},
          "execution_count": 14
        },
        {
          "output_type": "display_data",
          "data": {
            "text/plain": [
              "<Figure size 640x480 with 1 Axes>"
            ],
            "image/png": "[encoded data removed]"
          },
          "metadata": {}
        }
      ]
    },
    {
      "cell_type": "markdown",
      "source": [
        "What were the x coordinates?\n",
        "Make them explicit."
      ],
      "metadata": {
        "id": "Pq4GBjoNzwed"
      }
    },
    {
      "cell_type": "code",
      "source": [
        "plt.plot([0, 1, 2, 3, 4, 5], [3, 1, 4, 1, 5, 9]);"
      ],
      "metadata": {
        "id": "DwKxnFHuz1Ke",
        "colab": {
          "base_uri": "https://localhost:8080/",
          "height": 430
        },
        "outputId": "c272d8da-a88a-4c47-8d0c-c72fd2c17d4c"
      },
      "execution_count": 16,
      "outputs": [
        {
          "output_type": "display_data",
          "data": {
            "text/plain": [
              "<Figure size 640x480 with 1 Axes>"
            ],
            "image/png": "[encoded data removed]"
          },
          "metadata": {}
        }
      ]
    },
    {
      "cell_type": "markdown",
      "source": [
        "Plot the cosine function $y=\\mathrm{cos}(x)$ with dense coordinates - $x = 0.0, 0.01, 0.02, \\ldots$"
      ],
      "metadata": {
        "id": "nLWy-PFo0Huh"
      }
    },
    {
      "cell_type": "code",
      "source": [
        "xs= [ i/10 for i in range (200) ]"
      ],
      "metadata": {
        "id": "tKSblbjD0OFU"
      },
      "execution_count": 23,
      "outputs": []
    },
    {
      "cell_type": "code",
      "source": [
        "xs[:5]"
      ],
      "metadata": {
        "id": "kBzwnGqTAQie",
        "outputId": "9132ac0e-f2a3-45da-f745-cdf16c07d3b2",
        "colab": {
          "base_uri": "https://localhost:8080/"
        }
      },
      "execution_count": 24,
      "outputs": [
        {
          "output_type": "execute_result",
          "data": {
            "text/plain": [
              "[0.0, 0.1, 0.2, 0.3, 0.4]"
            ]
          },
          "metadata": {},
          "execution_count": 24
        }
      ]
    },
    {
      "cell_type": "code",
      "source": [
        "#plt.plot(xs, [math.cos(x) for x in xs], marker= \"+\", linestyle= \"none\"  );\n",
        "plt.scatter(xs, [math.cos(x) for x in xs]);\n",
        "plt.bar(xs, [math.cos(x) for x in xs]);\n",
        "plt.axhline (0,color='black')\n",
        "plt.axvline(0, color= 'red')"
      ],
      "metadata": {
        "id": "4L1N5qaJApP-",
        "outputId": "f6ac4415-1399-47ab-cfe3-b33265ed19bd",
        "colab": {
          "base_uri": "https://localhost:8080/",
          "height": 447
        }
      },
      "execution_count": 34,
      "outputs": [
        {
          "output_type": "execute_result",
          "data": {
            "text/plain": [
              "<matplotlib.lines.Line2D at 0x7ea0ffce47d0>"
            ]
          },
          "metadata": {},
          "execution_count": 34
        },
        {
          "output_type": "display_data",
          "data": {
            "text/plain": [
              "<Figure size 640x480 with 1 Axes>"
            ],
            "image/png": "[encoded data removed]"
          },
          "metadata": {}
        }
      ]
    },
    {
      "cell_type": "markdown",
      "source": [
        "Add axis labels and a title."
      ],
      "metadata": {
        "id": "OsBxNWCnz4ov"
      }
    },
    {
      "cell_type": "code",
      "source": [
        "plt.plot(xs, [math.cos(x) for x in xs], label=\"cos(x)\");\n",
        "plt.legend();\n",
        "plt.xlabel(\"x\")\n",
        "plt.ylabel(\"cos(x)\")\n",
        "plt.title(\"Cosine Function\");"
      ],
      "metadata": {
        "id": "hguvhW1vz7ae",
        "colab": {
          "base_uri": "https://localhost:8080/",
          "height": 472
        },
        "outputId": "bc213ff6-ccdb-4049-d042-a75fd66f15a2"
      },
      "execution_count": 27,
      "outputs": [
        {
          "output_type": "display_data",
          "data": {
            "text/plain": [
              "<Figure size 640x480 with 1 Axes>"
            ],
            "image/png": "[encoded data removed]"
          },
          "metadata": {}
        }
      ]
    },
    {
      "cell_type": "markdown",
      "source": [
        "Now plot both $\\mathrm{cos}(x)$ and $\\mathrm{sin}(x)$."
      ],
      "metadata": {
        "id": "ifAXperr0g71"
      }
    },
    {
      "cell_type": "code",
      "source": [
        "plt.plot(xs, [math.cos(x) for x in xs], label=\"cos(x)\");\n",
        "plt.plot(xs, [math.sin(x) for x in xs], label=\"sin(x)\");\n",
        "plt.plot(xs, [math.sin(x) for x in xs], label=\"sin(x)\");\n",
        "plt.legend();\n",
        "plt.xlabel(\"x\")\n",
        "plt.ylabel(\"y\")\n",
        "plt.title(\"Trig Function\");"
      ],
      "metadata": {
        "id": "Zp6iml7C0ogn",
        "colab": {
          "base_uri": "https://localhost:8080/",
          "height": 472
        },
        "outputId": "919a9717-dc5e-4c74-f6e4-f5e32e34bc5b"
      },
      "execution_count": 28,
      "outputs": [
        {
          "output_type": "display_data",
          "data": {
            "text/plain": [
              "<Figure size 640x480 with 1 Axes>"
            ],
            "image/png": "[encoded data removed]"
          },
          "metadata": {}
        }
      ]
    },
    {
      "cell_type": "markdown",
      "source": [
        "Label the two curves for clarity."
      ],
      "metadata": {
        "id": "3Mye9nYD0o-z"
      }
    },
    {
      "cell_type": "code",
      "source": [],
      "metadata": {
        "id": "nWbUclvM0sSX"
      },
      "execution_count": null,
      "outputs": []
    },
    {
      "cell_type": "markdown",
      "source": [
        "## Customizing Individual Plots"
      ],
      "metadata": {
        "id": "Z0rbil4Z03Hg"
      }
    },
    {
      "cell_type": "markdown",
      "source": [
        "Plot $y=\\mathrm{cos}(x)$ for $x=0.0,0.1,0.2,\\ldots,2.0$ and mark the calculated points."
      ],
      "metadata": {
        "id": "RAiYARFH08dD"
      }
    },
    {
      "cell_type": "code",
      "source": [],
      "metadata": {
        "id": "RXHIyDez055X"
      },
      "execution_count": null,
      "outputs": []
    },
    {
      "cell_type": "markdown",
      "source": [
        "Remove the lines between the calculated points."
      ],
      "metadata": {
        "id": "h__jaBeD1Hs_"
      }
    },
    {
      "cell_type": "code",
      "source": [],
      "metadata": {
        "id": "A3D94Hhr1LGq"
      },
      "execution_count": null,
      "outputs": []
    },
    {
      "cell_type": "markdown",
      "source": [
        "Do it with a scatter plot instead."
      ],
      "metadata": {
        "id": "_BhE-17-1Lli"
      }
    },
    {
      "cell_type": "code",
      "source": [],
      "metadata": {
        "id": "fB1CKL0o1OTm"
      },
      "execution_count": null,
      "outputs": []
    },
    {
      "cell_type": "markdown",
      "source": [
        "Do it with a bar chart instead."
      ],
      "metadata": {
        "id": "aGrt6KQT1Qs9"
      }
    },
    {
      "cell_type": "code",
      "source": [],
      "metadata": {
        "id": "4bslBlik1SVZ"
      },
      "execution_count": null,
      "outputs": []
    },
    {
      "cell_type": "markdown",
      "source": [
        "## Plot a Silly Data Set"
      ],
      "metadata": {
        "id": "CcVcesTc1Ssv"
      }
    },
    {
      "cell_type": "code",
      "source": [
        "!curl https://www.openintro.org/data/tab-delimited/datasaurus.txt > datasaurus.txt"
      ],
      "metadata": {
        "id": "FeKohkRn19Wo",
        "colab": {
          "base_uri": "https://localhost:8080/"
        },
        "outputId": "8490a912-15b1-41fd-8ed7-42c7044e8c1e"
      },
      "execution_count": 35,
      "outputs": [
        {
          "output_type": "stream",
          "name": "stdout",
          "text": [
            "  % Total    % Received % Xferd  Average Speed   Time    Time     Time  Current\n",
            "                                 Dload  Upload   Total   Spent    Left  Speed\n",
            "100 64110  100 64110    0     0   251k      0 --:--:-- --:--:-- --:--:--  252k\n"
          ]
        }
      ]
    },
    {
      "cell_type": "code",
      "source": [
        "!head datasaurus.txt"
      ],
      "metadata": {
        "id": "WToqJYaE2Kfb",
        "colab": {
          "base_uri": "https://localhost:8080/"
        },
        "outputId": "02c3a752-8d4f-45f2-bc0d-2d2a4374eadc"
      },
      "execution_count": 36,
      "outputs": [
        {
          "output_type": "stream",
          "name": "stdout",
          "text": [
            "dataset\tx\ty\n",
            "dino\t55.3846\t97.1795\n",
            "dino\t51.5385\t96.0256\n",
            "dino\t46.1538\t94.4872\n",
            "dino\t42.8205\t91.4103\n",
            "dino\t40.7692\t88.3333\n",
            "dino\t38.7179\t84.8718\n",
            "dino\t35.641\t79.8718\n",
            "dino\t33.0769\t77.5641\n",
            "dino\t28.9744\t74.4872\n"
          ]
        }
      ]
    },
    {
      "cell_type": "code",
      "source": [
        "import csv"
      ],
      "metadata": {
        "id": "iTUcGF0c2TQp"
      },
      "execution_count": 37,
      "outputs": []
    },
    {
      "cell_type": "code",
      "source": [
        "with open(\"datasaurus.txt\") as f:\n",
        "    ds_reader = csv.reader(f, delimiter=\"\\t\")\n",
        "    ds_data = list(ds_reader)"
      ],
      "metadata": {
        "id": "kOT6MX592M-O"
      },
      "execution_count": 38,
      "outputs": []
    },
    {
      "cell_type": "code",
      "source": [
        "ds_data[:5]"
      ],
      "metadata": {
        "id": "pKrd9M-s2dSu",
        "colab": {
          "base_uri": "https://localhost:8080/"
        },
        "outputId": "df066816-4a8d-4b2a-f3a6-b19b29a7b4a5"
      },
      "execution_count": 39,
      "outputs": [
        {
          "output_type": "execute_result",
          "data": {
            "text/plain": [
              "[['dataset', 'x', 'y'],\n",
              " ['dino', '55.3846', '97.1795'],\n",
              " ['dino', '51.5385', '96.0256'],\n",
              " ['dino', '46.1538', '94.4872'],\n",
              " ['dino', '42.8205', '91.4103']]"
            ]
          },
          "metadata": {},
          "execution_count": 39
        }
      ]
    },
    {
      "cell_type": "markdown",
      "source": [
        "What now???"
      ],
      "metadata": {
        "id": "iZoGOg0y2nKg"
      }
    },
    {
      "cell_type": "code",
      "source": [
        "ds_header= ds_data[0]\n",
        "ds_data = ds_data[1:]"
      ],
      "metadata": {
        "id": "LLFUGiQR2rFR"
      },
      "execution_count": 59,
      "outputs": []
    },
    {
      "cell_type": "code",
      "source": [
        "ds_data[:5]"
      ],
      "metadata": {
        "id": "yORGL3Mb2rAr",
        "colab": {
          "base_uri": "https://localhost:8080/"
        },
        "outputId": "b79b783c-5265-44ba-821b-a62b48f0bcff"
      },
      "execution_count": 41,
      "outputs": [
        {
          "output_type": "execute_result",
          "data": {
            "text/plain": [
              "[['dino', '55.3846', '97.1795'],\n",
              " ['dino', '51.5385', '96.0256'],\n",
              " ['dino', '46.1538', '94.4872'],\n",
              " ['dino', '42.8205', '91.4103'],\n",
              " ['dino', '40.7692', '88.3333']]"
            ]
          },
          "metadata": {},
          "execution_count": 41
        }
      ]
    },
    {
      "cell_type": "code",
      "source": [
        "dino_data= [(float(x), float(y)) for (dataset, x, y) in ds_data if dataset== \"dino\"]"
      ],
      "metadata": {
        "id": "KuM0zrXu2q7-"
      },
      "execution_count": 61,
      "outputs": []
    },
    {
      "cell_type": "code",
      "source": [
        "ds_data[:5]"
      ],
      "metadata": {
        "id": "vTespyq62q3T",
        "colab": {
          "base_uri": "https://localhost:8080/"
        },
        "outputId": "1b9a342b-8302-4d15-b8d5-4e3ed0f0e545"
      },
      "execution_count": 62,
      "outputs": [
        {
          "output_type": "execute_result",
          "data": {
            "text/plain": [
              "[['dino', '51.5385', '96.0256'],\n",
              " ['dino', '46.1538', '94.4872'],\n",
              " ['dino', '42.8205', '91.4103'],\n",
              " ['dino', '40.7692', '88.3333'],\n",
              " ['dino', '38.7179', '84.8718']]"
            ]
          },
          "metadata": {},
          "execution_count": 62
        }
      ]
    },
    {
      "cell_type": "code",
      "source": [
        "plt.scatter([x for x, y in dino_data], [y for x, y in dino_data])"
      ],
      "metadata": {
        "id": "YeWMO2ua2qyo",
        "colab": {
          "base_uri": "https://localhost:8080/",
          "height": 447
        },
        "outputId": "bfab7874-8c32-4d1a-c7ac-ea558deb881f"
      },
      "execution_count": 63,
      "outputs": [
        {
          "output_type": "execute_result",
          "data": {
            "text/plain": [
              "<matplotlib.collections.PathCollection at 0x7ea0f6b29880>"
            ]
          },
          "metadata": {},
          "execution_count": 63
        },
        {
          "output_type": "display_data",
          "data": {
            "text/plain": [
              "<Figure size 640x480 with 1 Axes>"
            ],
            "image/png": "[encoded data removed]"
          },
          "metadata": {}
        }
      ]
    },
    {
      "cell_type": "code",
      "source": [
        "datasets= set([row[0], for row in ds_data])"
      ],
      "metadata": {
        "id": "yW41tHXI2quL",
        "colab": {
          "base_uri": "https://localhost:8080/",
          "height": 106
        },
        "outputId": "d97e24f8-1715-47ce-d0c4-cd15af300975"
      },
      "execution_count": 66,
      "outputs": [
        {
          "output_type": "error",
          "ename": "SyntaxError",
          "evalue": "did you forget parentheses around the comprehension target? (ipython-input-477965147.py, line 1)",
          "traceback": [
            "\u001b[0;36m  File \u001b[0;32m\"/tmp/ipython-input-477965147.py\"\u001b[0;36m, line \u001b[0;32m1\u001b[0m\n\u001b[0;31m    datasets= set([row[0], for row in ds_data])\u001b[0m\n\u001b[0m                   ^\u001b[0m\n\u001b[0;31mSyntaxError\u001b[0m\u001b[0;31m:\u001b[0m did you forget parentheses around the comprehension target?\n"
          ]
        }
      ]
    },
    {
      "cell_type": "code",
      "source": [],
      "metadata": {
        "id": "OLlC_iAX2qpu"
      },
      "execution_count": null,
      "outputs": []
    },
    {
      "cell_type": "code",
      "source": [],
      "metadata": {
        "id": "IUZNo23i2qlB"
      },
      "execution_count": null,
      "outputs": []
    }
  ]
}